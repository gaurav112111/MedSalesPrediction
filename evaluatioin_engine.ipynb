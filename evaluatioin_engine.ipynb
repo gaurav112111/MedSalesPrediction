{
 "cells": [
  {
   "cell_type": "markdown",
   "metadata": {},
   "source": [
    "<img src=\"images/evaluation_engine.png\">"
   ]
  },
  {
   "cell_type": "code",
   "execution_count": 25,
   "metadata": {},
   "outputs": [],
   "source": [
    "import pandas as pd\n",
    "import sklearn.metrics\n",
    "from sklearn.metrics import mean_squared_error\n",
    "import math\n",
    "import os\n",
    "from os import listdir\n",
    "from os.path import isfile, join"
   ]
  },
  {
   "cell_type": "code",
   "execution_count": 26,
   "metadata": {},
   "outputs": [],
   "source": [
    "def mse_len_tuple(y_train, y_pred):\n",
    "    return (mean_squared_error(y_pred=y_pred, y_true=y_train), len(y_pred))"
   ]
  },
  {
   "cell_type": "code",
   "execution_count": 27,
   "metadata": {},
   "outputs": [],
   "source": [
    "def make_mse_entry(train_file, pred_file, mse_df):\n",
    "    train = pd.read_csv(train_file, sep=\",\", na_values=[\"?\",\",\",\"#\",\"NaN\",\"unknown\",\"\"])\n",
    "    pred = pd.read_csv(pred_file, sep=\",\", na_values=[\"?\",\",\",\"#\",\"NaN\",\"unknown\",\"\"])\n",
    "    mse, nrows = mse_len_tuple(train[\"sales\"], pred[\"sales\"])\n",
    "    mse_df.loc[-1] = [mse, nrows]  # adding a row\n",
    "    mse_df.index = mse_df.index + 1  # shifting index\n",
    "    mse_df = mse_df.sort_index()  # sorting by index\n"
   ]
  },
  {
   "cell_type": "code",
   "execution_count": 28,
   "metadata": {},
   "outputs": [],
   "source": [
    "def get_mse_df(train_files, pred_files):\n",
    "    mse_df = pd.DataFrame(columns = [\"mse\", \"nrows\"])\n",
    "    for i in range(0, len(pred_files)):\n",
    "        make_mse_entry(train_files[i], pred_files[i], mse_df)\n",
    "    #print(mse_df.head())\n",
    "    return mse_df"
   ]
  },
  {
   "cell_type": "code",
   "execution_count": 29,
   "metadata": {},
   "outputs": [],
   "source": [
    "def rmse(mse_df):\n",
    "    mse_df_copy = mse_df.copy()\n",
    "    mse_df_copy[\"nmse\"] = mse_df_copy[\"mse\"] * mse_df_copy[\"nrows\"]\n",
    "    total_nmse = mse_df_copy.sum(axis = 0, skipna = True)[\"nmse\"]\n",
    "    total_nrows = mse_df_copy.sum(axis = 0, skipna = True)[\"nrows\"]\n",
    "    rmse_score = math.sqrt(total_nmse/total_nrows)\n",
    "    return rmse_score"
   ]
  },
  {
   "cell_type": "code",
   "execution_count": 30,
   "metadata": {},
   "outputs": [],
   "source": [
    "def evaluate(train_files, pred_files):\n",
    "    mse_df = get_mse_df(train_files, pred_files)\n",
    "    return rmse(mse_df)"
   ]
  },
  {
   "cell_type": "code",
   "execution_count": 31,
   "metadata": {},
   "outputs": [],
   "source": [
    "def get_files(files_dir, files_prefix):\n",
    "    return [join(files_dir, f) for f in listdir(files_dir) if isfile(join(files_dir, f)) and files_prefix in f]"
   ]
  },
  {
   "cell_type": "code",
   "execution_count": 32,
   "metadata": {},
   "outputs": [
    {
     "data": {
      "text/plain": [
       "86.01480931742846"
      ]
     },
     "execution_count": 32,
     "metadata": {},
     "output_type": "execute_result"
    }
   ],
   "source": [
    "train_files = get_files(\"/Users/ggupta14581/Desktop/PHD/Models/Prophet/prophet_1/\", \"simple_train_1\")\n",
    "pred_files = get_files(\"/Users/ggupta14581/Desktop/PHD/Models/Prophet/prophet_1/\", \"pred_1\")\n",
    "evaluate(train_files, pred_files)"
   ]
  }
 ],
 "metadata": {
  "kernelspec": {
   "display_name": "Python 3",
   "language": "python",
   "name": "python3"
  },
  "language_info": {
   "codemirror_mode": {
    "name": "ipython",
    "version": 3
   },
   "file_extension": ".py",
   "mimetype": "text/x-python",
   "name": "python",
   "nbconvert_exporter": "python",
   "pygments_lexer": "ipython3",
   "version": "3.8.3"
  }
 },
 "nbformat": 4,
 "nbformat_minor": 4
}
